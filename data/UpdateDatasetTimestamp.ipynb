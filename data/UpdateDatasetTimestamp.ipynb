{
 "cells": [
  {
   "cell_type": "markdown",
   "id": "3d4fab9e",
   "metadata": {},
   "source": [
    "# Notebook for updating dateset timestamps\n",
    "Amazon Fraud Detector only retain 18 months of data for ingested events. This notebook provide functions to shift dateset timestamps to most recent months. "
   ]
  },
  {
   "cell_type": "code",
   "execution_count": 8,
   "id": "e3f51928",
   "metadata": {},
   "outputs": [],
   "source": [
    "import pandas as pd\n",
    "from datetime import datetime, timezone, timedelta\n",
    "import glob\n",
    "import zipfile\n",
    "import os\n",
    "import glob\n",
    "\n",
    "def update_timestamp(file):\n",
    "    # Input: \n",
    "    #     file: file_path to csv \n",
    "\n",
    "    df = pd.read_csv(file,\n",
    "                dtype='object',\n",
    "                keep_default_na=False,\n",
    "                na_values='')\n",
    "\n",
    "    df['EVENT_TIMESTAMP'] = pd.to_datetime(df['EVENT_TIMESTAMP'])\n",
    "    min_dt = min(df['EVENT_TIMESTAMP']).replace(tzinfo=None)\n",
    "    max_dt = max(df['EVENT_TIMESTAMP']).replace(tzinfo=None)\n",
    "    \n",
    "    if 'LABEL_TIMESTAMP' in df.columns:\n",
    "        df['LABEL_TIMESTAMP'] = pd.to_datetime(df['LABEL_TIMESTAMP'])\n",
    "        min_dt = min(min_dt, df['LABEL_TIMESTAMP'].min().replace(tzinfo=None))\n",
    "        max_dt = max(max_dt, df['LABEL_TIMESTAMP'].max().replace(tzinfo=None))\n",
    "        \n",
    "    print('Orignal dates')\n",
    "    print(min_dt, max_dt)\n",
    "    \n",
    "    tz_info = max_dt.tzinfo\n",
    "\n",
    "    assert max_dt-min_dt<timedelta(days=547)\n",
    "\n",
    "    time_diff = datetime.now(tz_info)-max_dt-timedelta(days=1)\n",
    "\n",
    "    df['EVENT_TIMESTAMP'] = df['EVENT_TIMESTAMP'] + time_diff\n",
    "    print('Updated dates')\n",
    "    print(df['EVENT_TIMESTAMP'].min(), df['EVENT_TIMESTAMP'].max())\n",
    "    if 'LABEL_TIMESTAMP' in df.columns:\n",
    "        df['LABEL_TIMESTAMP'] = df['LABEL_TIMESTAMP'] + time_diff\n",
    "        print(df['LABEL_TIMESTAMP'].min(), df['LABEL_TIMESTAMP'].max())\n",
    "        \n",
    "    df['EVENT_TIMESTAMP'] = df['EVENT_TIMESTAMP'].dt.strftime(\"%Y-%m-%dT%H:%M:%SZ\")\n",
    "    if 'LABEL_TIMESTAMP' in df.columns:\n",
    "        df['LABEL_TIMESTAMP'] = df['LABEL_TIMESTAMP'].dt.strftime(\"%Y-%m-%dT%H:%M:%SZ\")\n",
    "        \n",
    "    \n",
    "    df.to_csv(file,index=False)\n",
    "    return 'SUCCESS'\n",
    "\n"
   ]
  },
  {
   "cell_type": "markdown",
   "id": "80a730b6",
   "metadata": {},
   "source": [
    "### Under data folder"
   ]
  },
  {
   "cell_type": "code",
   "execution_count": null,
   "id": "838a4397",
   "metadata": {},
   "outputs": [],
   "source": [
    "update_timestamp('registration_data_20K_full.csv')\n",
    "\n",
    "update_timestamp('registration_data_20K_minimum.csv')\n",
    "\n",
    "update_timestamp('transaction_data_100K_full.csv')\n",
    "\n",
    "with zipfile.ZipFile(\"ato_data_800K_full.csv.zip\",\"r\") as zip_ref:\n",
    "    zip_ref.extractall(\".\")\n",
    "update_timestamp('ato_data_800K_full.csv')\n",
    "zipfile.ZipFile('ato_data_800K_full.csv.zip', mode='w').write(\"ato_data_800K_full.csv\", compress_type=zipfile.ZIP_DEFLATED)\n",
    "os.remove('ato_data_800K_full.csv')"
   ]
  },
  {
   "cell_type": "markdown",
   "id": "3d20c172",
   "metadata": {},
   "source": [
    "### Under demo_scripts/data folder"
   ]
  },
  {
   "cell_type": "code",
   "execution_count": null,
   "id": "76628e2a",
   "metadata": {},
   "outputs": [],
   "source": [
    "files = glob.glob('../demo_scripts/data/*')"
   ]
  },
  {
   "cell_type": "code",
   "execution_count": 10,
   "id": "abaceeaa",
   "metadata": {},
   "outputs": [
    {
     "name": "stdout",
     "output_type": "stream",
     "text": [
      "../demo_scripts/data/Registration_FakeAccountCreationByHumans_100k.csv\n",
      "Orignal dates\n",
      "2021-10-05 11:41:57 2022-10-05 17:18:53\n",
      "Updated dates\n",
      "2021-10-05 11:42:29.422949+00:00 2022-10-05 17:18:33.422949+00:00\n",
      "2022-10-05 17:19:25.422949+00:00 2022-10-05 17:19:25.422949+00:00\n",
      "====\n",
      "../demo_scripts/data/Abuse_FreeTrialReferralAbuse_100k.csv\n",
      "Orignal dates\n",
      "2020-12-23 15:53:31 2021-12-23 21:30:21\n",
      "Updated dates\n",
      "2021-10-05 11:42:36.874333 2022-10-05 17:15:47.874333\n",
      "2022-10-05 17:19:26.874333+00:00 2022-10-05 17:19:26.874333+00:00\n",
      "====\n",
      "../demo_scripts/data/Registration_FakeAccountCreationByBots_100k.csv\n",
      "Orignal dates\n",
      "2020-12-27 12:57:57 2021-12-27 18:43:03\n",
      "Updated dates\n",
      "2021-10-05 11:34:22.309072 2022-10-05 17:17:38.309072\n",
      "2022-10-05 17:19:28.309072+00:00 2022-10-05 17:19:28.309072+00:00\n",
      "====\n",
      "../demo_scripts/data/Advertisement_AdClickFraud_20k.csv\n",
      "Orignal dates\n",
      "2021-01-26 14:54:14 2022-01-26 19:57:01\n",
      "Updated dates\n",
      "2021-10-05 12:16:42.411449 2022-10-05 16:39:34.411449\n",
      "2022-10-05 17:19:29.411449+00:00 2022-10-05 17:19:29.411449+00:00\n",
      "====\n",
      "../demo_scripts/data/ContentModeration_FakeReviews_100k.csv\n",
      "Orignal dates\n",
      "2021-01-12 19:46:55 2022-01-13 01:32:35\n",
      "Updated dates\n",
      "2021-10-05 11:33:49.989675 2022-10-05 17:14:30.989675\n",
      "2022-10-05 17:19:29.989675+00:00 2022-10-05 17:19:29.989675+00:00\n",
      "====\n",
      "../demo_scripts/data/Insurance_FraudulentAutoInsuranceClaims_100k.csv\n",
      "Orignal dates\n",
      "2020-12-27 14:54:25 2021-12-27 20:30:18\n",
      "Updated dates\n",
      "2021-10-05 11:43:38.431138 2022-10-05 17:17:04.431138\n",
      "2022-10-05 17:19:31.431138+00:00 2022-10-05 17:19:31.431138+00:00\n",
      "====\n",
      "../demo_scripts/data/Transactions_LoyaltyPayments_100k.csv\n",
      "Orignal dates\n",
      "2021-01-12 19:04:48 2022-01-13 00:46:53\n",
      "Updated dates\n",
      "2021-10-05 11:37:28.060901 2022-10-05 17:16:05.060901\n",
      "2022-10-05 17:19:33.060901+00:00 2022-10-05 17:19:33.060901+00:00\n",
      "====\n",
      "../demo_scripts/data/Transactions_CardNotPresentOnlineTransactions_100k.csv\n",
      "Orignal dates\n",
      "2020-12-23 14:47:59 2021-12-23 20:30:04\n",
      "Updated dates\n",
      "2021-10-05 11:37:30.006621 2022-10-05 17:18:06.006621\n",
      "2022-10-05 17:19:35.006621+00:00 2022-10-05 17:19:35.006621+00:00\n",
      "====\n"
     ]
    }
   ],
   "source": [
    "for f in files:\n",
    "    if f.endswith('.csv'):\n",
    "        print(f)\n",
    "        update_timestamp(f)\n",
    "        print('====')"
   ]
  },
  {
   "cell_type": "code",
   "execution_count": null,
   "id": "8efd4cfe",
   "metadata": {},
   "outputs": [],
   "source": []
  },
  {
   "cell_type": "code",
   "execution_count": null,
   "id": "920feedb",
   "metadata": {},
   "outputs": [],
   "source": []
  }
 ],
 "metadata": {
  "kernelspec": {
   "display_name": "Python 3 (ipykernel)",
   "language": "python",
   "name": "python3"
  },
  "language_info": {
   "codemirror_mode": {
    "name": "ipython",
    "version": 3
   },
   "file_extension": ".py",
   "mimetype": "text/x-python",
   "name": "python",
   "nbconvert_exporter": "python",
   "pygments_lexer": "ipython3",
   "version": "3.8.9"
  }
 },
 "nbformat": 4,
 "nbformat_minor": 5
}
